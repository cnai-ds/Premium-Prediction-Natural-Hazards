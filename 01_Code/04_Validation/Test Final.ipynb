{
 "cells": [
  {
   "cell_type": "markdown",
   "metadata": {},
   "source": [
    "## Preprocessing"
   ]
  },
  {
   "cell_type": "code",
   "execution_count": 4,
   "metadata": {},
   "outputs": [],
   "source": [
    "import sys\n",
    "import os\n",
    "sys.path.append('../')\n",
    "from utils import *\n",
    "import pandas as pd\n",
    "pd.set_option('display.max_columns', None)\n",
    "pd.option_context(\"display.max_rows\", None)\n",
    "import numpy as np\n",
    "from sklearn import preprocessing as ps\n",
    "import warnings\n",
    "warnings.filterwarnings(\"ignore\")\n",
    "from sklearn.impute import KNNImputer\n",
    "import joblib\n",
    "from scipy import stats\n",
    "from scipy.special import inv_boxcox"
   ]
  },
  {
   "cell_type": "code",
   "execution_count": 5,
   "metadata": {},
   "outputs": [],
   "source": [
    "df = pd.read_excel('../../01_Data/02_Processed/processed_test.xlsx')\n",
    "ID = df.SUBMISSION_ID"
   ]
  },
  {
   "cell_type": "code",
   "execution_count": 6,
   "metadata": {},
   "outputs": [],
   "source": [
    "df[['TOP_FMLS','pd_bi','FMLS_PD_PERCEN','FMLS_BI_PERCEN']] = df[['TOP_FMLS','pd_bi',\n",
    "                                                                 'FMLS_PD_PERCEN','FMLS_BI_PERCEN']].fillna(0)"
   ]
  },
  {
   "cell_type": "code",
   "execution_count": 7,
   "metadata": {},
   "outputs": [],
   "source": [
    "f = df[['MAIN_PRICING_CATEG','MAIN_PRICING_SUBCATEG','SUBSECTOR']]\n",
    "f2 = df[['MARKET','MAIN_PRICING_SUBCATEG']]\n",
    "feature_hash(df, f, max_size=60)\n",
    "feature_hash(df, f2, max_size=30)\n",
    "df.drop(['MARKET','MAIN_PRICING_CATEG','MAIN_PRICING_SUBCATEG','SUBSECTOR'], axis=1, inplace=True)\n",
    "\n",
    "encoder = ps.LabelEncoder()\n",
    "df['UWCENTER'] = encoder.fit_transform(df['UWCENTER'])\n",
    "df['SEGMENT_LOB'] = encoder.fit_transform(df['SEGMENT_LOB'])\n",
    "df['CT_STATUS'] = encoder.fit_transform(df['CT_STATUS'])\n",
    "df['COVERAGE'] = encoder.fit_transform(df['COVERAGE'])\n",
    "df['BUSINESSUNIT'] = encoder.fit_transform(df['BUSINESSUNIT'])\n",
    "df['UF_STATUS'] = encoder.fit_transform(df['UF_STATUS'])"
   ]
  },
  {
   "cell_type": "code",
   "execution_count": 8,
   "metadata": {},
   "outputs": [],
   "source": [
    "df.drop(['MAINOCCUPANCY','OIL','NO_OF_STRY','pd_bi','FXRATEUSD','FMLS_BI','IV_CONTENT',\n",
    "         'DISCOUNTS','ORIGCCY','WORDING','QUALITY_RISK_MGT','PARTTYPE','FMLS_BI_PERCEN',\n",
    "         'MB_QUALITY','MAIN_COUNTRY','GUARANTEE','TAG','inception_year','BI_TYPE','inception_duration','inception_month',\n",
    "         'COVERAGE','YEAR','nb_category','BI_MITIGATION','ASSET_QUALITY','SEGMENT_LOB','CT_STATUS','YR_BLT',\n",
    "         'NO_OF_BLDG','FLD_EXP','MHZ_EXP','CYC_EXP','CYCPRO_EXP','MHZPRO_EXP','VOL_EXP',\n",
    "        'UF_STATUS','FMLS_PD_PERCEN','TIV','ACCURACY_VALIDATE','FMLS_PD','MPL_PD','NBLOCS','IV_BI_VAL',\n",
    "         'diff','MAIN_PRICING_SUBCATEG_hash','IV_PD','SUBSECTOR_hash','BI_PERIOD','CT_PERIOD','nb_state',\n",
    "         'TOP_FMLS','MPL_BI_PERCEN','UWY_first','UWR_cumultive','pricing_duration'], axis=1,inplace=True)"
   ]
  },
  {
   "cell_type": "code",
   "execution_count": 9,
   "metadata": {},
   "outputs": [],
   "source": [
    "df.drop(['SUBMISSION_ID','FACUL_NUM','DIVISION_NUM','UWYEAR'], axis=1, inplace=True)"
   ]
  },
  {
   "cell_type": "code",
   "execution_count": 10,
   "metadata": {},
   "outputs": [
    {
     "data": {
      "text/plain": [
       "(3259, 24)"
      ]
     },
     "execution_count": 10,
     "metadata": {},
     "output_type": "execute_result"
    }
   ],
   "source": [
    "df.shape"
   ]
  },
  {
   "cell_type": "markdown",
   "metadata": {},
   "source": [
    "## Predict on test set"
   ]
  },
  {
   "cell_type": "code",
   "execution_count": 12,
   "metadata": {},
   "outputs": [],
   "source": [
    "knn_imp = KNNImputer(n_neighbors=4, weights='distance')\n",
    "df_impute = pd.DataFrame(knn_imp.fit_transform(df), columns=df.columns)"
   ]
  },
  {
   "cell_type": "code",
   "execution_count": 13,
   "metadata": {},
   "outputs": [],
   "source": [
    "cb = joblib.load('../../03_Model/cb_reg_030821.pkl')\n",
    "pred_cb = cb.predict(df_impute)"
   ]
  },
  {
   "cell_type": "code",
   "execution_count": 14,
   "metadata": {},
   "outputs": [],
   "source": [
    "xgb = joblib.load('../../03_Model/xgb_reg_030821.pkl')\n",
    "org_cols_order = xgb.get_booster().feature_names\n",
    "df_impute_2 = df_impute[org_cols_order]\n",
    "pred_xgb = xgb.predict(df_impute_2)"
   ]
  },
  {
   "cell_type": "code",
   "execution_count": 15,
   "metadata": {},
   "outputs": [],
   "source": [
    "stack = joblib.load('../../03_Model/stack_reg_030821_best.pkl')\n",
    "pred_stack = stack.predict(df_impute)"
   ]
  },
  {
   "cell_type": "code",
   "execution_count": 16,
   "metadata": {},
   "outputs": [],
   "source": [
    "pred_cb_df = pd.DataFrame(pred_cb, columns=['predicted_premium'])\n",
    "result_cb = pd.concat([ID, pred_cb_df], names=['SUBMISSION_ID','predicted_premium'], axis=1)\n",
    "\n",
    "pred_xgb_df = pd.DataFrame(pred_xgb, columns=['predicted_premium'])\n",
    "result_xgb = pd.concat([ID, pred_xgb_df], names=['SUBMISSION_ID','predicted_premium'], axis=1)\n",
    "\n",
    "pred_stack_df = pd.DataFrame(pred_stack, columns=['predicted_premium'])\n",
    "result_stack = pd.concat([ID, pred_stack_df], names=['SUBMISSION_ID','predicted_premium'], axis=1)"
   ]
  },
  {
   "cell_type": "code",
   "execution_count": 17,
   "metadata": {},
   "outputs": [],
   "source": [
    "result_cb['predicted_premium'] = inv_boxcox(result_cb['predicted_premium'], 0.17700863235182274)\n",
    "result_xgb['predicted_premium'] = inv_boxcox(result_xgb['predicted_premium'], 0.17700863235182274)\n",
    "result_stack['predicted_premium'] = inv_boxcox(result_stack['predicted_premium'], 0.17700863235182274)"
   ]
  },
  {
   "cell_type": "markdown",
   "metadata": {},
   "source": [
    "## Save result"
   ]
  },
  {
   "cell_type": "code",
   "execution_count": 18,
   "metadata": {},
   "outputs": [],
   "source": [
    "result_cb.to_csv(\"../../01_Data/03_Results/result_premium_catboost_final.csv\",index=False)\n",
    "result_xgb.to_csv(\"../../01_Data/03_Results/result_premium_xgb_final.csv\",index=False)\n",
    "result_stack.to_csv(\"../../01_Data/03_Results/result_premium_stack_final_best.csv\",index=False)"
   ]
  },
  {
   "cell_type": "code",
   "execution_count": null,
   "metadata": {},
   "outputs": [],
   "source": []
  }
 ],
 "metadata": {
  "kernelspec": {
   "display_name": "Python 3",
   "language": "python",
   "name": "python3"
  },
  "language_info": {
   "codemirror_mode": {
    "name": "ipython",
    "version": 3
   },
   "file_extension": ".py",
   "mimetype": "text/x-python",
   "name": "python",
   "nbconvert_exporter": "python",
   "pygments_lexer": "ipython3",
   "version": "3.8.6rc1"
  }
 },
 "nbformat": 4,
 "nbformat_minor": 4
}
